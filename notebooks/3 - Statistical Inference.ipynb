{
 "cells": [
  {
   "cell_type": "markdown",
   "id": "0b1d8992",
   "metadata": {},
   "source": [
    "# 3 - Statistical Inference"
   ]
  },
  {
   "cell_type": "markdown",
   "id": "99945d13",
   "metadata": {},
   "source": [
    "#### Importing required modules"
   ]
  },
  {
   "cell_type": "code",
   "execution_count": 1,
   "id": "937a3a69",
   "metadata": {},
   "outputs": [],
   "source": [
    "import os\n",
    "import sys\n",
    "from pathlib import Path\n",
    "\n",
    "sys.path.append(str(Path(os.getcwd()).parent.absolute()) + \"\\\\app\")"
   ]
  },
  {
   "cell_type": "code",
   "execution_count": 1,
   "id": "84f3b3e0",
   "metadata": {},
   "outputs": [],
   "source": [
    "import pandas as pd\n",
    "import config\n",
    "import scipy.stats as stats \n",
    "import scikit_posthocs as sph\n",
    "from functions import remove_outliers, check_normality, get_significance, two_group_default_comparison, marascuilo_procedure\n",
    "from functions_visualization import plot_dunn_results\n",
    "from statsmodels.stats.proportion import proportions_ztest\n",
    "from scipy.stats import chi2_contingency\n",
    "pd.set_option(\"display.max_columns\", None)\n"
   ]
  },
  {
   "cell_type": "markdown",
   "id": "2b62f538",
   "metadata": {},
   "source": [
    "#### Setting access to reach GCP bucket"
   ]
  },
  {
   "cell_type": "code",
   "execution_count": 2,
   "id": "08986806",
   "metadata": {},
   "outputs": [],
   "source": [
    "os.environ[\"GOOGLE_APPLICATION_CREDENTIALS\"] = config.GOOGLE_APPLICATION_CREDENTIALS"
   ]
  },
  {
   "cell_type": "markdown",
   "id": "e8852b97",
   "metadata": {},
   "source": [
    "#### Loading data"
   ]
  },
  {
   "cell_type": "code",
   "execution_count": 3,
   "id": "a89e5e30",
   "metadata": {},
   "outputs": [],
   "source": [
    "application_train = pd.read_csv(f\"{config.DATA_DIRECTORY}application_train.csv\")"
   ]
  },
  {
   "cell_type": "markdown",
   "id": "c95b99d2",
   "metadata": {},
   "source": [
    "#### Statistical inference"
   ]
  },
  {
   "cell_type": "markdown",
   "id": "d24d1337",
   "metadata": {},
   "source": [
    "I've created a function called two_group_default_comparison to facilitate hypothesis testing for comparing two groups and their binary outcomes (TARGET). This function utilizes the Chi-square test for independence to determine if there's a significant association between two categorical variables. If the resulting p-value is below our threshold (0.05), indicating a significant association, we proceed to compare the default proportions between the two groups. We then conduct a proportions Z-test with an adjusted p-value (0.025) to obtain a more confident assessment of which group tends to default more."
   ]
  },
  {
   "cell_type": "markdown",
   "id": "176ad6ca",
   "metadata": {},
   "source": [
    "##### Assumptions of Chi-Square test:\n",
    "Both variables are categorical. <br>\n",
    "All observations are independent.<br>\n",
    "Cells in the contingency table are mutually exclusive.<br>\n",
    "Expected value of cells should be 5 or greater in at least 80% of cells"
   ]
  },
  {
   "cell_type": "markdown",
   "id": "f96ec675",
   "metadata": {},
   "source": [
    "##### Assumptions of Proportions z-test assumptions:\n",
    "\n",
    "Independent Samples: The samples must be independent of each other. This means that the outcome in one sample should not affect the outcome in the other sample. In the context of your dataset, this means that each individual's likelihood of defaulting on a loan is independent of the others'.\n",
    "\n",
    "Random Sampling: The data should be collected through a process of random sampling. That is, each individual in the population has an equal chance of being included in the sample.\n",
    "\n",
    "Sample Size: Both groups being compared should be sufficiently large. A common rule of thumb is that the sample size should be such that you expect at least 10 successes (defaults) and 10 failures (non-defaults) in each group. This is sometimes referred to as the npq rule, where n is the sample size, p is the probability of success, and q is the probability of failure (q = 1 - p).\n",
    "\n",
    "Normal Distribution of the Sample Proportion: The sample proportion should be normally distributed. For a proportion, this generally means that np and n(1-p) should both be greater than or equal to 10, where n is the sample size and p is the proportion of interest."
   ]
  },
  {
   "cell_type": "markdown",
   "id": "9a51bcee",
   "metadata": {},
   "source": [
    "#### Is there are any difference in default rate for people who own a car? Do people who own a car default less / more?"
   ]
  },
  {
   "cell_type": "code",
   "execution_count": 4,
   "id": "411b68a4",
   "metadata": {},
   "outputs": [
    {
     "data": {
      "text/html": [
       "<div>\n",
       "<style scoped>\n",
       "    .dataframe tbody tr th:only-of-type {\n",
       "        vertical-align: middle;\n",
       "    }\n",
       "\n",
       "    .dataframe tbody tr th {\n",
       "        vertical-align: top;\n",
       "    }\n",
       "\n",
       "    .dataframe thead th {\n",
       "        text-align: right;\n",
       "    }\n",
       "</style>\n",
       "<table border=\"1\" class=\"dataframe\">\n",
       "  <thead>\n",
       "    <tr style=\"text-align: right;\">\n",
       "      <th>TARGET</th>\n",
       "      <th>0</th>\n",
       "      <th>1</th>\n",
       "    </tr>\n",
       "    <tr>\n",
       "      <th>FLAG_OWN_CAR</th>\n",
       "      <th></th>\n",
       "      <th></th>\n",
       "    </tr>\n",
       "  </thead>\n",
       "  <tbody>\n",
       "    <tr>\n",
       "      <th>N</th>\n",
       "      <td>185675</td>\n",
       "      <td>17249</td>\n",
       "    </tr>\n",
       "    <tr>\n",
       "      <th>Y</th>\n",
       "      <td>97011</td>\n",
       "      <td>7576</td>\n",
       "    </tr>\n",
       "  </tbody>\n",
       "</table>\n",
       "</div>"
      ],
      "text/plain": [
       "TARGET             0      1\n",
       "FLAG_OWN_CAR               \n",
       "N             185675  17249\n",
       "Y              97011   7576"
      ]
     },
     "execution_count": 4,
     "metadata": {},
     "output_type": "execute_result"
    }
   ],
   "source": [
    "crosstab_own_car = pd.crosstab(application_train['FLAG_OWN_CAR'], application_train['TARGET'])\n",
    "crosstab_own_car"
   ]
  },
  {
   "cell_type": "code",
   "execution_count": 5,
   "id": "321370f3",
   "metadata": {},
   "outputs": [
    {
     "name": "stdout",
     "output_type": "stream",
     "text": [
      "Chi-square test for independence:\n",
      "- Null Hypothesis (H0): No association between FLAG_OWN_CAR and the likelihood of defaulting on a loan. The proportions of default are equal across groups.\n",
      "- Alternative Hypothesis (Ha): An association between FLAG_OWN_CAR and the likelihood of defaulting on a loan. The proportions of default differ between groups.\n",
      "\n",
      "Chi-square Results: \n",
      "- Statistic: 146.66 \n",
      "- P-value: 0.0 \n",
      "- Degrees of freedom: 1\n",
      "P value is below alpha 0.05 --> Rejecting H0.\n",
      "\n",
      "Proportions Analysis:\n",
      "- Default rate for FLAG_OWN_CAR = N: 0.085\n",
      "- Default rate for FLAG_OWN_CAR = Y: 0.0724\n",
      "\n",
      "Proportions Z-test:\n",
      "- Z-statistic: -12.12\n",
      "- P-value: 0.0\n",
      "P-value is below 0.025 -> Reject Null Hypothesis.\n",
      "Group N is more likely to default on a loan.\n"
     ]
    }
   ],
   "source": [
    "two_group_default_comparison(crosstab_own_car)"
   ]
  },
  {
   "cell_type": "markdown",
   "id": "8162b530",
   "metadata": {},
   "source": [
    "#### Is there are any difference in default rate for people who own real estate? Do people who own real estate default less / more?"
   ]
  },
  {
   "cell_type": "code",
   "execution_count": 6,
   "id": "02abd434",
   "metadata": {},
   "outputs": [
    {
     "data": {
      "text/html": [
       "<div>\n",
       "<style scoped>\n",
       "    .dataframe tbody tr th:only-of-type {\n",
       "        vertical-align: middle;\n",
       "    }\n",
       "\n",
       "    .dataframe tbody tr th {\n",
       "        vertical-align: top;\n",
       "    }\n",
       "\n",
       "    .dataframe thead th {\n",
       "        text-align: right;\n",
       "    }\n",
       "</style>\n",
       "<table border=\"1\" class=\"dataframe\">\n",
       "  <thead>\n",
       "    <tr style=\"text-align: right;\">\n",
       "      <th>TARGET</th>\n",
       "      <th>0</th>\n",
       "      <th>1</th>\n",
       "    </tr>\n",
       "    <tr>\n",
       "      <th>FLAG_OWN_REALTY</th>\n",
       "      <th></th>\n",
       "      <th></th>\n",
       "    </tr>\n",
       "  </thead>\n",
       "  <tbody>\n",
       "    <tr>\n",
       "      <th>N</th>\n",
       "      <td>86357</td>\n",
       "      <td>7842</td>\n",
       "    </tr>\n",
       "    <tr>\n",
       "      <th>Y</th>\n",
       "      <td>196329</td>\n",
       "      <td>16983</td>\n",
       "    </tr>\n",
       "  </tbody>\n",
       "</table>\n",
       "</div>"
      ],
      "text/plain": [
       "TARGET                0      1\n",
       "FLAG_OWN_REALTY               \n",
       "N                 86357   7842\n",
       "Y                196329  16983"
      ]
     },
     "execution_count": 6,
     "metadata": {},
     "output_type": "execute_result"
    }
   ],
   "source": [
    "crosstab_own_realty = pd.crosstab(application_train['FLAG_OWN_REALTY'], application_train['TARGET'])\n",
    "crosstab_own_realty"
   ]
  },
  {
   "cell_type": "code",
   "execution_count": 7,
   "id": "d8453fa4",
   "metadata": {},
   "outputs": [
    {
     "name": "stdout",
     "output_type": "stream",
     "text": [
      "Chi-square test for independence:\n",
      "- Null Hypothesis (H0): No association between FLAG_OWN_REALTY and the likelihood of defaulting on a loan. The proportions of default are equal across groups.\n",
      "- Alternative Hypothesis (Ha): An association between FLAG_OWN_REALTY and the likelihood of defaulting on a loan. The proportions of default differ between groups.\n",
      "\n",
      "Chi-square Results: \n",
      "- Statistic: 11.58 \n",
      "- P-value: 0.001 \n",
      "- Degrees of freedom: 1\n",
      "P value is below alpha 0.05 --> Rejecting H0.\n",
      "\n",
      "Proportions Analysis:\n",
      "- Default rate for FLAG_OWN_REALTY = N: 0.0832\n",
      "- Default rate for FLAG_OWN_REALTY = Y: 0.0796\n",
      "\n",
      "Proportions Z-test:\n",
      "- Z-statistic: -3.41\n",
      "- P-value: 0.001\n",
      "P-value is below 0.025 -> Reject Null Hypothesis.\n",
      "Group N is more likely to default on a loan.\n"
     ]
    }
   ],
   "source": [
    "two_group_default_comparison(crosstab_own_realty)"
   ]
  },
  {
   "cell_type": "markdown",
   "id": "96886a3e",
   "metadata": {},
   "source": [
    "#### Is there are any difference in default rate for people below and above age 60? Do people over 60 default less / more?\n",
    "\n"
   ]
  },
  {
   "cell_type": "code",
   "execution_count": 8,
   "id": "5154d5dd",
   "metadata": {},
   "outputs": [
    {
     "data": {
      "text/html": [
       "<div>\n",
       "<style scoped>\n",
       "    .dataframe tbody tr th:only-of-type {\n",
       "        vertical-align: middle;\n",
       "    }\n",
       "\n",
       "    .dataframe tbody tr th {\n",
       "        vertical-align: top;\n",
       "    }\n",
       "\n",
       "    .dataframe thead th {\n",
       "        text-align: right;\n",
       "    }\n",
       "</style>\n",
       "<table border=\"1\" class=\"dataframe\">\n",
       "  <thead>\n",
       "    <tr style=\"text-align: right;\">\n",
       "      <th>TARGET</th>\n",
       "      <th>0</th>\n",
       "      <th>1</th>\n",
       "    </tr>\n",
       "    <tr>\n",
       "      <th>AGE_GROUP</th>\n",
       "      <th></th>\n",
       "      <th></th>\n",
       "    </tr>\n",
       "  </thead>\n",
       "  <tbody>\n",
       "    <tr>\n",
       "      <th>0</th>\n",
       "      <td>245599</td>\n",
       "      <td>22892</td>\n",
       "    </tr>\n",
       "    <tr>\n",
       "      <th>1</th>\n",
       "      <td>37087</td>\n",
       "      <td>1933</td>\n",
       "    </tr>\n",
       "  </tbody>\n",
       "</table>\n",
       "</div>"
      ],
      "text/plain": [
       "TARGET          0      1\n",
       "AGE_GROUP               \n",
       "0          245599  22892\n",
       "1           37087   1933"
      ]
     },
     "execution_count": 8,
     "metadata": {},
     "output_type": "execute_result"
    }
   ],
   "source": [
    "application_train[\"AGE_YEARS\"] = round(application_train[\"DAYS_BIRTH\"]/-365)\n",
    "application_train[\"AGE_GROUP\"] = (application_train[\"AGE_YEARS\"] >= 60).astype(int)\n",
    "crosstab_age_60 = pd.crosstab(application_train[\"AGE_GROUP\"], application_train[\"TARGET\"])\n",
    "crosstab_age_60"
   ]
  },
  {
   "cell_type": "code",
   "execution_count": 9,
   "id": "61f1684b",
   "metadata": {},
   "outputs": [
    {
     "name": "stdout",
     "output_type": "stream",
     "text": [
      "Chi-square test for independence:\n",
      "- Null Hypothesis (H0): No association between AGE_GROUP and the likelihood of defaulting on a loan. The proportions of default are equal across groups.\n",
      "- Alternative Hypothesis (Ha): An association between AGE_GROUP and the likelihood of defaulting on a loan. The proportions of default differ between groups.\n",
      "\n",
      "Chi-square Results: \n",
      "- Statistic: 585.36 \n",
      "- P-value: 0.0 \n",
      "- Degrees of freedom: 1\n",
      "P value is below alpha 0.05 --> Rejecting H0.\n",
      "\n",
      "Proportions Analysis:\n",
      "- Default rate for AGE_GROUP = 0: 0.0853\n",
      "- Default rate for AGE_GROUP = 1: 0.0495\n",
      "\n",
      "Proportions Z-test:\n",
      "- Z-statistic: -24.2\n",
      "- P-value: 0.0\n",
      "P-value is below 0.025 -> Reject Null Hypothesis.\n",
      "Group 0 is more likely to default on a loan.\n"
     ]
    }
   ],
   "source": [
    "two_group_default_comparison(crosstab_age_60)"
   ]
  },
  {
   "cell_type": "markdown",
   "id": "559fc387",
   "metadata": {},
   "source": [
    "#### Any statistical significance that some exact day applications tend to default more? "
   ]
  },
  {
   "cell_type": "markdown",
   "id": "bc52b795",
   "metadata": {},
   "source": [
    "- H0: The day of the week an application is submitted is independent of the likelihood of defaulting. There is no statistically significant association between the day of the week and default rates.\n",
    "- Ha: The day of the week an application is submitted is not independent of the likelihood of defaulting. There is a statistically significant association between the day of the week and default rates."
   ]
  },
  {
   "cell_type": "code",
   "execution_count": 10,
   "id": "fe8997d0",
   "metadata": {},
   "outputs": [
    {
     "data": {
      "text/html": [
       "<div>\n",
       "<style scoped>\n",
       "    .dataframe tbody tr th:only-of-type {\n",
       "        vertical-align: middle;\n",
       "    }\n",
       "\n",
       "    .dataframe tbody tr th {\n",
       "        vertical-align: top;\n",
       "    }\n",
       "\n",
       "    .dataframe thead th {\n",
       "        text-align: right;\n",
       "    }\n",
       "</style>\n",
       "<table border=\"1\" class=\"dataframe\">\n",
       "  <thead>\n",
       "    <tr style=\"text-align: right;\">\n",
       "      <th>TARGET</th>\n",
       "      <th>0</th>\n",
       "      <th>1</th>\n",
       "    </tr>\n",
       "    <tr>\n",
       "      <th>WEEKDAY_APPR_PROCESS_START</th>\n",
       "      <th></th>\n",
       "      <th></th>\n",
       "    </tr>\n",
       "  </thead>\n",
       "  <tbody>\n",
       "    <tr>\n",
       "      <th>FRIDAY</th>\n",
       "      <td>46237</td>\n",
       "      <td>4101</td>\n",
       "    </tr>\n",
       "    <tr>\n",
       "      <th>MONDAY</th>\n",
       "      <td>46780</td>\n",
       "      <td>3934</td>\n",
       "    </tr>\n",
       "    <tr>\n",
       "      <th>SATURDAY</th>\n",
       "      <td>31182</td>\n",
       "      <td>2670</td>\n",
       "    </tr>\n",
       "    <tr>\n",
       "      <th>SUNDAY</th>\n",
       "      <td>14898</td>\n",
       "      <td>1283</td>\n",
       "    </tr>\n",
       "    <tr>\n",
       "      <th>THURSDAY</th>\n",
       "      <td>46493</td>\n",
       "      <td>4098</td>\n",
       "    </tr>\n",
       "    <tr>\n",
       "      <th>TUESDAY</th>\n",
       "      <td>49400</td>\n",
       "      <td>4501</td>\n",
       "    </tr>\n",
       "    <tr>\n",
       "      <th>WEDNESDAY</th>\n",
       "      <td>47696</td>\n",
       "      <td>4238</td>\n",
       "    </tr>\n",
       "  </tbody>\n",
       "</table>\n",
       "</div>"
      ],
      "text/plain": [
       "TARGET                          0     1\n",
       "WEEKDAY_APPR_PROCESS_START             \n",
       "FRIDAY                      46237  4101\n",
       "MONDAY                      46780  3934\n",
       "SATURDAY                    31182  2670\n",
       "SUNDAY                      14898  1283\n",
       "THURSDAY                    46493  4098\n",
       "TUESDAY                     49400  4501\n",
       "WEDNESDAY                   47696  4238"
      ]
     },
     "execution_count": 10,
     "metadata": {},
     "output_type": "execute_result"
    }
   ],
   "source": [
    "crosstab_weekday = pd.crosstab(application_train[\"WEEKDAY_APPR_PROCESS_START\"], application_train[\"TARGET\"])\n",
    "crosstab_weekday"
   ]
  },
  {
   "cell_type": "code",
   "execution_count": 11,
   "id": "5dddba64",
   "metadata": {},
   "outputs": [
    {
     "data": {
      "text/plain": [
       "'P value is below alpha 0.05 --> Reject H0.'"
      ]
     },
     "execution_count": 11,
     "metadata": {},
     "output_type": "execute_result"
    }
   ],
   "source": [
    "chi_stat, p_chi_weekday, dof, expected = chi2_contingency(crosstab_weekday)\n",
    "get_significance(p_chi_weekday)"
   ]
  },
  {
   "cell_type": "markdown",
   "id": "1763983f",
   "metadata": {},
   "source": [
    "There is a significant difference in at least one group of application days. In order to get know between which exact groups there are significant association, we will use The Marascuilo proceduro. Reference:https://www.itl.nist.gov/div898/handbook/prc/section4/prc474.htm\n",
    "It requires calculating the chi-square statistic for each pair of categories and comparing it to a critical value that takes into account the number of comparisons. I have created a marascuilo_procedure function, which can be found in functions.py"
   ]
  },
  {
   "cell_type": "code",
   "execution_count": 12,
   "id": "fd509e98",
   "metadata": {},
   "outputs": [
    {
     "data": {
      "text/html": [
       "<div>\n",
       "<style scoped>\n",
       "    .dataframe tbody tr th:only-of-type {\n",
       "        vertical-align: middle;\n",
       "    }\n",
       "\n",
       "    .dataframe tbody tr th {\n",
       "        vertical-align: top;\n",
       "    }\n",
       "\n",
       "    .dataframe thead th {\n",
       "        text-align: right;\n",
       "    }\n",
       "</style>\n",
       "<table border=\"1\" class=\"dataframe\">\n",
       "  <thead>\n",
       "    <tr style=\"text-align: right;\">\n",
       "      <th></th>\n",
       "      <th>Category1</th>\n",
       "      <th>Category2</th>\n",
       "      <th>Difference</th>\n",
       "      <th>Proportion1</th>\n",
       "      <th>Proportion2</th>\n",
       "      <th>Critical Value</th>\n",
       "      <th>P-Value</th>\n",
       "      <th>Adjusted P-Value</th>\n",
       "    </tr>\n",
       "  </thead>\n",
       "  <tbody>\n",
       "    <tr>\n",
       "      <th>9</th>\n",
       "      <td>MONDAY</td>\n",
       "      <td>TUESDAY</td>\n",
       "      <td>0.005933</td>\n",
       "      <td>0.077572</td>\n",
       "      <td>0.083505</td>\n",
       "      <td>0.006399</td>\n",
       "      <td>0.000422</td>\n",
       "      <td>0.008856</td>\n",
       "    </tr>\n",
       "  </tbody>\n",
       "</table>\n",
       "</div>"
      ],
      "text/plain": [
       "  Category1 Category2  Difference  Proportion1  Proportion2  Critical Value  \\\n",
       "9    MONDAY   TUESDAY    0.005933     0.077572     0.083505        0.006399   \n",
       "\n",
       "    P-Value  Adjusted P-Value  \n",
       "9  0.000422          0.008856  "
      ]
     },
     "execution_count": 12,
     "metadata": {},
     "output_type": "execute_result"
    }
   ],
   "source": [
    "marascuilo_procedure(crosstab_weekday, 1, alpha=0.05, adjust_method='bonferroni')"
   ]
  },
  {
   "cell_type": "markdown",
   "id": "844b802a",
   "metadata": {},
   "source": [
    "It appears that applications submitted on Tuesday have a higher tendency to default compared to those submitted on Monday. However, there are no significant differences observed in default rates for other comparisons."
   ]
  },
  {
   "cell_type": "markdown",
   "id": "3475f957",
   "metadata": {},
   "source": [
    "#### Any statistical significance that some exact hour applications tend to default more?"
   ]
  },
  {
   "cell_type": "code",
   "execution_count": 13,
   "id": "5e60ae2e",
   "metadata": {},
   "outputs": [
    {
     "data": {
      "text/html": [
       "<div>\n",
       "<style scoped>\n",
       "    .dataframe tbody tr th:only-of-type {\n",
       "        vertical-align: middle;\n",
       "    }\n",
       "\n",
       "    .dataframe tbody tr th {\n",
       "        vertical-align: top;\n",
       "    }\n",
       "\n",
       "    .dataframe thead th {\n",
       "        text-align: right;\n",
       "    }\n",
       "</style>\n",
       "<table border=\"1\" class=\"dataframe\">\n",
       "  <thead>\n",
       "    <tr style=\"text-align: right;\">\n",
       "      <th>TARGET</th>\n",
       "      <th>0</th>\n",
       "      <th>1</th>\n",
       "    </tr>\n",
       "    <tr>\n",
       "      <th>HOUR_APPR_PROCESS_START</th>\n",
       "      <th></th>\n",
       "      <th></th>\n",
       "    </tr>\n",
       "  </thead>\n",
       "  <tbody>\n",
       "    <tr>\n",
       "      <th>0</th>\n",
       "      <td>34</td>\n",
       "      <td>6</td>\n",
       "    </tr>\n",
       "    <tr>\n",
       "      <th>1</th>\n",
       "      <td>79</td>\n",
       "      <td>7</td>\n",
       "    </tr>\n",
       "    <tr>\n",
       "      <th>2</th>\n",
       "      <td>275</td>\n",
       "      <td>30</td>\n",
       "    </tr>\n",
       "    <tr>\n",
       "      <th>3</th>\n",
       "      <td>1123</td>\n",
       "      <td>107</td>\n",
       "    </tr>\n",
       "    <tr>\n",
       "      <th>4</th>\n",
       "      <td>1917</td>\n",
       "      <td>173</td>\n",
       "    </tr>\n",
       "    <tr>\n",
       "      <th>5</th>\n",
       "      <td>3253</td>\n",
       "      <td>385</td>\n",
       "    </tr>\n",
       "    <tr>\n",
       "      <th>6</th>\n",
       "      <td>5197</td>\n",
       "      <td>645</td>\n",
       "    </tr>\n",
       "    <tr>\n",
       "      <th>7</th>\n",
       "      <td>8214</td>\n",
       "      <td>917</td>\n",
       "    </tr>\n",
       "    <tr>\n",
       "      <th>8</th>\n",
       "      <td>13754</td>\n",
       "      <td>1373</td>\n",
       "    </tr>\n",
       "    <tr>\n",
       "      <th>9</th>\n",
       "      <td>25137</td>\n",
       "      <td>2247</td>\n",
       "    </tr>\n",
       "    <tr>\n",
       "      <th>10</th>\n",
       "      <td>34696</td>\n",
       "      <td>3026</td>\n",
       "    </tr>\n",
       "    <tr>\n",
       "      <th>11</th>\n",
       "      <td>34223</td>\n",
       "      <td>3006</td>\n",
       "    </tr>\n",
       "    <tr>\n",
       "      <th>12</th>\n",
       "      <td>31406</td>\n",
       "      <td>2827</td>\n",
       "    </tr>\n",
       "    <tr>\n",
       "      <th>13</th>\n",
       "      <td>28474</td>\n",
       "      <td>2485</td>\n",
       "    </tr>\n",
       "    <tr>\n",
       "      <th>14</th>\n",
       "      <td>25493</td>\n",
       "      <td>2189</td>\n",
       "    </tr>\n",
       "    <tr>\n",
       "      <th>15</th>\n",
       "      <td>22953</td>\n",
       "      <td>1886</td>\n",
       "    </tr>\n",
       "    <tr>\n",
       "      <th>16</th>\n",
       "      <td>18864</td>\n",
       "      <td>1521</td>\n",
       "    </tr>\n",
       "    <tr>\n",
       "      <th>17</th>\n",
       "      <td>13933</td>\n",
       "      <td>967</td>\n",
       "    </tr>\n",
       "    <tr>\n",
       "      <th>18</th>\n",
       "      <td>8414</td>\n",
       "      <td>635</td>\n",
       "    </tr>\n",
       "    <tr>\n",
       "      <th>19</th>\n",
       "      <td>3584</td>\n",
       "      <td>264</td>\n",
       "    </tr>\n",
       "    <tr>\n",
       "      <th>20</th>\n",
       "      <td>1112</td>\n",
       "      <td>84</td>\n",
       "    </tr>\n",
       "    <tr>\n",
       "      <th>21</th>\n",
       "      <td>380</td>\n",
       "      <td>25</td>\n",
       "    </tr>\n",
       "    <tr>\n",
       "      <th>22</th>\n",
       "      <td>135</td>\n",
       "      <td>15</td>\n",
       "    </tr>\n",
       "    <tr>\n",
       "      <th>23</th>\n",
       "      <td>36</td>\n",
       "      <td>5</td>\n",
       "    </tr>\n",
       "  </tbody>\n",
       "</table>\n",
       "</div>"
      ],
      "text/plain": [
       "TARGET                       0     1\n",
       "HOUR_APPR_PROCESS_START             \n",
       "0                           34     6\n",
       "1                           79     7\n",
       "2                          275    30\n",
       "3                         1123   107\n",
       "4                         1917   173\n",
       "5                         3253   385\n",
       "6                         5197   645\n",
       "7                         8214   917\n",
       "8                        13754  1373\n",
       "9                        25137  2247\n",
       "10                       34696  3026\n",
       "11                       34223  3006\n",
       "12                       31406  2827\n",
       "13                       28474  2485\n",
       "14                       25493  2189\n",
       "15                       22953  1886\n",
       "16                       18864  1521\n",
       "17                       13933   967\n",
       "18                        8414   635\n",
       "19                        3584   264\n",
       "20                        1112    84\n",
       "21                         380    25\n",
       "22                         135    15\n",
       "23                          36     5"
      ]
     },
     "execution_count": 13,
     "metadata": {},
     "output_type": "execute_result"
    }
   ],
   "source": [
    "crosstab_hour = pd.crosstab(application_train[\"HOUR_APPR_PROCESS_START\"], application_train[\"TARGET\"])\n",
    "crosstab_hour"
   ]
  },
  {
   "cell_type": "code",
   "execution_count": 14,
   "id": "84f0156e",
   "metadata": {},
   "outputs": [
    {
     "data": {
      "text/plain": [
       "'P value is below alpha 0.05 --> Reject H0.'"
      ]
     },
     "execution_count": 14,
     "metadata": {},
     "output_type": "execute_result"
    }
   ],
   "source": [
    "chi_stat, p_chi_hour, dof, expected = chi2_contingency(crosstab_hour)\n",
    "get_significance(p_chi_hour)"
   ]
  },
  {
   "cell_type": "code",
   "execution_count": 15,
   "id": "a5025f6e",
   "metadata": {
    "scrolled": false
   },
   "outputs": [
    {
     "data": {
      "text/html": [
       "<div>\n",
       "<style scoped>\n",
       "    .dataframe tbody tr th:only-of-type {\n",
       "        vertical-align: middle;\n",
       "    }\n",
       "\n",
       "    .dataframe tbody tr th {\n",
       "        vertical-align: top;\n",
       "    }\n",
       "\n",
       "    .dataframe thead th {\n",
       "        text-align: right;\n",
       "    }\n",
       "</style>\n",
       "<table border=\"1\" class=\"dataframe\">\n",
       "  <thead>\n",
       "    <tr style=\"text-align: right;\">\n",
       "      <th></th>\n",
       "      <th>Category1</th>\n",
       "      <th>Category2</th>\n",
       "      <th>Difference</th>\n",
       "      <th>Proportion1</th>\n",
       "      <th>Proportion2</th>\n",
       "      <th>Critical Value</th>\n",
       "      <th>P-Value</th>\n",
       "      <th>Adjusted P-Value</th>\n",
       "    </tr>\n",
       "  </thead>\n",
       "  <tbody>\n",
       "    <tr>\n",
       "      <th>87</th>\n",
       "      <td>4</td>\n",
       "      <td>6</td>\n",
       "      <td>0.027632</td>\n",
       "      <td>0.082775</td>\n",
       "      <td>0.110407</td>\n",
       "      <td>0.010695</td>\n",
       "      <td>1.502800e-04</td>\n",
       "      <td>4.147727e-02</td>\n",
       "    </tr>\n",
       "    <tr>\n",
       "      <th>108</th>\n",
       "      <td>5</td>\n",
       "      <td>9</td>\n",
       "      <td>0.023772</td>\n",
       "      <td>0.105827</td>\n",
       "      <td>0.082055</td>\n",
       "      <td>0.010695</td>\n",
       "      <td>9.308646e-06</td>\n",
       "      <td>2.569186e-03</td>\n",
       "    </tr>\n",
       "    <tr>\n",
       "      <th>109</th>\n",
       "      <td>5</td>\n",
       "      <td>10</td>\n",
       "      <td>0.025609</td>\n",
       "      <td>0.105827</td>\n",
       "      <td>0.080218</td>\n",
       "      <td>0.010695</td>\n",
       "      <td>1.282206e-06</td>\n",
       "      <td>3.538888e-04</td>\n",
       "    </tr>\n",
       "    <tr>\n",
       "      <th>110</th>\n",
       "      <td>5</td>\n",
       "      <td>11</td>\n",
       "      <td>0.025084</td>\n",
       "      <td>0.105827</td>\n",
       "      <td>0.080744</td>\n",
       "      <td>0.010695</td>\n",
       "      <td>2.137089e-06</td>\n",
       "      <td>5.898367e-04</td>\n",
       "    </tr>\n",
       "    <tr>\n",
       "      <th>111</th>\n",
       "      <td>5</td>\n",
       "      <td>12</td>\n",
       "      <td>0.023246</td>\n",
       "      <td>0.105827</td>\n",
       "      <td>0.082581</td>\n",
       "      <td>0.010695</td>\n",
       "      <td>1.210701e-05</td>\n",
       "      <td>3.341534e-03</td>\n",
       "    </tr>\n",
       "    <tr>\n",
       "      <th>112</th>\n",
       "      <td>5</td>\n",
       "      <td>13</td>\n",
       "      <td>0.025560</td>\n",
       "      <td>0.105827</td>\n",
       "      <td>0.080267</td>\n",
       "      <td>0.010695</td>\n",
       "      <td>1.613743e-06</td>\n",
       "      <td>4.453930e-04</td>\n",
       "    </tr>\n",
       "    <tr>\n",
       "      <th>113</th>\n",
       "      <td>5</td>\n",
       "      <td>14</td>\n",
       "      <td>0.026751</td>\n",
       "      <td>0.105827</td>\n",
       "      <td>0.079077</td>\n",
       "      <td>0.010695</td>\n",
       "      <td>5.779034e-07</td>\n",
       "      <td>1.595013e-04</td>\n",
       "    </tr>\n",
       "    <tr>\n",
       "      <th>114</th>\n",
       "      <td>5</td>\n",
       "      <td>15</td>\n",
       "      <td>0.029898</td>\n",
       "      <td>0.105827</td>\n",
       "      <td>0.075929</td>\n",
       "      <td>0.010695</td>\n",
       "      <td>2.579978e-08</td>\n",
       "      <td>7.120739e-06</td>\n",
       "    </tr>\n",
       "    <tr>\n",
       "      <th>115</th>\n",
       "      <td>5</td>\n",
       "      <td>16</td>\n",
       "      <td>0.031214</td>\n",
       "      <td>0.105827</td>\n",
       "      <td>0.074614</td>\n",
       "      <td>0.010695</td>\n",
       "      <td>8.569415e-09</td>\n",
       "      <td>2.365159e-06</td>\n",
       "    </tr>\n",
       "    <tr>\n",
       "      <th>116</th>\n",
       "      <td>5</td>\n",
       "      <td>17</td>\n",
       "      <td>0.040928</td>\n",
       "      <td>0.105827</td>\n",
       "      <td>0.064899</td>\n",
       "      <td>0.010695</td>\n",
       "      <td>8.526513e-14</td>\n",
       "      <td>2.353318e-11</td>\n",
       "    </tr>\n",
       "    <tr>\n",
       "      <th>117</th>\n",
       "      <td>5</td>\n",
       "      <td>18</td>\n",
       "      <td>0.035654</td>\n",
       "      <td>0.105827</td>\n",
       "      <td>0.070173</td>\n",
       "      <td>0.010695</td>\n",
       "      <td>6.178593e-10</td>\n",
       "      <td>1.705292e-07</td>\n",
       "    </tr>\n",
       "    <tr>\n",
       "      <th>118</th>\n",
       "      <td>5</td>\n",
       "      <td>19</td>\n",
       "      <td>0.037220</td>\n",
       "      <td>0.105827</td>\n",
       "      <td>0.068607</td>\n",
       "      <td>0.010695</td>\n",
       "      <td>1.187652e-08</td>\n",
       "      <td>3.277920e-06</td>\n",
       "    </tr>\n",
       "    <tr>\n",
       "      <th>119</th>\n",
       "      <td>5</td>\n",
       "      <td>20</td>\n",
       "      <td>0.035593</td>\n",
       "      <td>0.105827</td>\n",
       "      <td>0.070234</td>\n",
       "      <td>0.010695</td>\n",
       "      <td>7.359778e-05</td>\n",
       "      <td>2.031299e-02</td>\n",
       "    </tr>\n",
       "    <tr>\n",
       "      <th>124</th>\n",
       "      <td>6</td>\n",
       "      <td>8</td>\n",
       "      <td>0.019643</td>\n",
       "      <td>0.110407</td>\n",
       "      <td>0.090765</td>\n",
       "      <td>0.010695</td>\n",
       "      <td>3.147341e-05</td>\n",
       "      <td>8.686662e-03</td>\n",
       "    </tr>\n",
       "    <tr>\n",
       "      <th>125</th>\n",
       "      <td>6</td>\n",
       "      <td>9</td>\n",
       "      <td>0.028352</td>\n",
       "      <td>0.110407</td>\n",
       "      <td>0.082055</td>\n",
       "      <td>0.010695</td>\n",
       "      <td>1.453557e-10</td>\n",
       "      <td>4.011818e-08</td>\n",
       "    </tr>\n",
       "    <tr>\n",
       "      <th>126</th>\n",
       "      <td>6</td>\n",
       "      <td>10</td>\n",
       "      <td>0.030189</td>\n",
       "      <td>0.110407</td>\n",
       "      <td>0.080218</td>\n",
       "      <td>0.010695</td>\n",
       "      <td>3.204770e-12</td>\n",
       "      <td>8.845165e-10</td>\n",
       "    </tr>\n",
       "    <tr>\n",
       "      <th>127</th>\n",
       "      <td>6</td>\n",
       "      <td>11</td>\n",
       "      <td>0.029664</td>\n",
       "      <td>0.110407</td>\n",
       "      <td>0.080744</td>\n",
       "      <td>0.010695</td>\n",
       "      <td>7.899015e-12</td>\n",
       "      <td>2.180128e-09</td>\n",
       "    </tr>\n",
       "    <tr>\n",
       "      <th>128</th>\n",
       "      <td>6</td>\n",
       "      <td>12</td>\n",
       "      <td>0.027826</td>\n",
       "      <td>0.110407</td>\n",
       "      <td>0.082581</td>\n",
       "      <td>0.010695</td>\n",
       "      <td>1.776523e-10</td>\n",
       "      <td>4.903205e-08</td>\n",
       "    </tr>\n",
       "    <tr>\n",
       "      <th>129</th>\n",
       "      <td>6</td>\n",
       "      <td>13</td>\n",
       "      <td>0.030140</td>\n",
       "      <td>0.110407</td>\n",
       "      <td>0.080267</td>\n",
       "      <td>0.010695</td>\n",
       "      <td>6.026513e-12</td>\n",
       "      <td>1.663317e-09</td>\n",
       "    </tr>\n",
       "    <tr>\n",
       "      <th>130</th>\n",
       "      <td>6</td>\n",
       "      <td>14</td>\n",
       "      <td>0.031331</td>\n",
       "      <td>0.110407</td>\n",
       "      <td>0.079077</td>\n",
       "      <td>0.010695</td>\n",
       "      <td>1.199707e-12</td>\n",
       "      <td>3.311191e-10</td>\n",
       "    </tr>\n",
       "    <tr>\n",
       "      <th>131</th>\n",
       "      <td>6</td>\n",
       "      <td>15</td>\n",
       "      <td>0.034478</td>\n",
       "      <td>0.110407</td>\n",
       "      <td>0.075929</td>\n",
       "      <td>0.010695</td>\n",
       "      <td>7.327472e-15</td>\n",
       "      <td>2.022382e-12</td>\n",
       "    </tr>\n",
       "    <tr>\n",
       "      <th>132</th>\n",
       "      <td>6</td>\n",
       "      <td>16</td>\n",
       "      <td>0.035794</td>\n",
       "      <td>0.110407</td>\n",
       "      <td>0.074614</td>\n",
       "      <td>0.010695</td>\n",
       "      <td>1.554312e-15</td>\n",
       "      <td>4.289902e-13</td>\n",
       "    </tr>\n",
       "    <tr>\n",
       "      <th>133</th>\n",
       "      <td>6</td>\n",
       "      <td>17</td>\n",
       "      <td>0.045508</td>\n",
       "      <td>0.110407</td>\n",
       "      <td>0.064899</td>\n",
       "      <td>0.010695</td>\n",
       "      <td>0.000000e+00</td>\n",
       "      <td>0.000000e+00</td>\n",
       "    </tr>\n",
       "    <tr>\n",
       "      <th>134</th>\n",
       "      <td>6</td>\n",
       "      <td>18</td>\n",
       "      <td>0.040234</td>\n",
       "      <td>0.110407</td>\n",
       "      <td>0.070173</td>\n",
       "      <td>0.010695</td>\n",
       "      <td>2.220446e-16</td>\n",
       "      <td>6.128431e-14</td>\n",
       "    </tr>\n",
       "    <tr>\n",
       "      <th>135</th>\n",
       "      <td>6</td>\n",
       "      <td>19</td>\n",
       "      <td>0.041800</td>\n",
       "      <td>0.110407</td>\n",
       "      <td>0.068607</td>\n",
       "      <td>0.010695</td>\n",
       "      <td>4.800604e-13</td>\n",
       "      <td>1.324967e-10</td>\n",
       "    </tr>\n",
       "    <tr>\n",
       "      <th>136</th>\n",
       "      <td>6</td>\n",
       "      <td>20</td>\n",
       "      <td>0.040173</td>\n",
       "      <td>0.110407</td>\n",
       "      <td>0.070234</td>\n",
       "      <td>0.010695</td>\n",
       "      <td>1.995138e-06</td>\n",
       "      <td>5.506580e-04</td>\n",
       "    </tr>\n",
       "    <tr>\n",
       "      <th>137</th>\n",
       "      <td>6</td>\n",
       "      <td>21</td>\n",
       "      <td>0.048679</td>\n",
       "      <td>0.110407</td>\n",
       "      <td>0.061728</td>\n",
       "      <td>0.010695</td>\n",
       "      <td>1.178372e-04</td>\n",
       "      <td>3.252306e-02</td>\n",
       "    </tr>\n",
       "    <tr>\n",
       "      <th>141</th>\n",
       "      <td>7</td>\n",
       "      <td>9</td>\n",
       "      <td>0.018372</td>\n",
       "      <td>0.100427</td>\n",
       "      <td>0.082055</td>\n",
       "      <td>0.010695</td>\n",
       "      <td>2.384205e-07</td>\n",
       "      <td>6.580407e-05</td>\n",
       "    </tr>\n",
       "    <tr>\n",
       "      <th>142</th>\n",
       "      <td>7</td>\n",
       "      <td>10</td>\n",
       "      <td>0.020209</td>\n",
       "      <td>0.100427</td>\n",
       "      <td>0.080218</td>\n",
       "      <td>0.010695</td>\n",
       "      <td>4.342988e-09</td>\n",
       "      <td>1.198665e-06</td>\n",
       "    </tr>\n",
       "    <tr>\n",
       "      <th>143</th>\n",
       "      <td>7</td>\n",
       "      <td>11</td>\n",
       "      <td>0.019684</td>\n",
       "      <td>0.100427</td>\n",
       "      <td>0.080744</td>\n",
       "      <td>0.010695</td>\n",
       "      <td>1.136706e-08</td>\n",
       "      <td>3.137307e-06</td>\n",
       "    </tr>\n",
       "    <tr>\n",
       "      <th>144</th>\n",
       "      <td>7</td>\n",
       "      <td>12</td>\n",
       "      <td>0.017846</td>\n",
       "      <td>0.100427</td>\n",
       "      <td>0.082581</td>\n",
       "      <td>0.010695</td>\n",
       "      <td>2.914933e-07</td>\n",
       "      <td>8.045214e-05</td>\n",
       "    </tr>\n",
       "    <tr>\n",
       "      <th>145</th>\n",
       "      <td>7</td>\n",
       "      <td>13</td>\n",
       "      <td>0.020160</td>\n",
       "      <td>0.100427</td>\n",
       "      <td>0.080267</td>\n",
       "      <td>0.010695</td>\n",
       "      <td>8.756469e-09</td>\n",
       "      <td>2.416785e-06</td>\n",
       "    </tr>\n",
       "    <tr>\n",
       "      <th>146</th>\n",
       "      <td>7</td>\n",
       "      <td>14</td>\n",
       "      <td>0.021350</td>\n",
       "      <td>0.100427</td>\n",
       "      <td>0.079077</td>\n",
       "      <td>0.010695</td>\n",
       "      <td>1.610669e-09</td>\n",
       "      <td>4.445447e-07</td>\n",
       "    </tr>\n",
       "    <tr>\n",
       "      <th>147</th>\n",
       "      <td>7</td>\n",
       "      <td>15</td>\n",
       "      <td>0.024498</td>\n",
       "      <td>0.100427</td>\n",
       "      <td>0.075929</td>\n",
       "      <td>0.010695</td>\n",
       "      <td>6.452172e-12</td>\n",
       "      <td>1.780800e-09</td>\n",
       "    </tr>\n",
       "    <tr>\n",
       "      <th>148</th>\n",
       "      <td>7</td>\n",
       "      <td>16</td>\n",
       "      <td>0.025813</td>\n",
       "      <td>0.100427</td>\n",
       "      <td>0.074614</td>\n",
       "      <td>0.010695</td>\n",
       "      <td>1.408651e-12</td>\n",
       "      <td>3.887877e-10</td>\n",
       "    </tr>\n",
       "    <tr>\n",
       "      <th>149</th>\n",
       "      <td>7</td>\n",
       "      <td>17</td>\n",
       "      <td>0.035528</td>\n",
       "      <td>0.100427</td>\n",
       "      <td>0.064899</td>\n",
       "      <td>0.010695</td>\n",
       "      <td>0.000000e+00</td>\n",
       "      <td>0.000000e+00</td>\n",
       "    </tr>\n",
       "    <tr>\n",
       "      <th>150</th>\n",
       "      <td>7</td>\n",
       "      <td>18</td>\n",
       "      <td>0.030254</td>\n",
       "      <td>0.100427</td>\n",
       "      <td>0.070173</td>\n",
       "      <td>0.010695</td>\n",
       "      <td>2.571277e-13</td>\n",
       "      <td>7.096723e-11</td>\n",
       "    </tr>\n",
       "    <tr>\n",
       "      <th>151</th>\n",
       "      <td>7</td>\n",
       "      <td>19</td>\n",
       "      <td>0.031820</td>\n",
       "      <td>0.100427</td>\n",
       "      <td>0.068607</td>\n",
       "      <td>0.010695</td>\n",
       "      <td>6.358689e-10</td>\n",
       "      <td>1.754998e-07</td>\n",
       "    </tr>\n",
       "    <tr>\n",
       "      <th>152</th>\n",
       "      <td>7</td>\n",
       "      <td>20</td>\n",
       "      <td>0.030193</td>\n",
       "      <td>0.100427</td>\n",
       "      <td>0.070234</td>\n",
       "      <td>0.010695</td>\n",
       "      <td>1.701492e-04</td>\n",
       "      <td>4.696118e-02</td>\n",
       "    </tr>\n",
       "    <tr>\n",
       "      <th>157</th>\n",
       "      <td>8</td>\n",
       "      <td>10</td>\n",
       "      <td>0.010546</td>\n",
       "      <td>0.090765</td>\n",
       "      <td>0.080218</td>\n",
       "      <td>0.010695</td>\n",
       "      <td>1.071008e-04</td>\n",
       "      <td>2.955981e-02</td>\n",
       "    </tr>\n",
       "    <tr>\n",
       "      <th>160</th>\n",
       "      <td>8</td>\n",
       "      <td>13</td>\n",
       "      <td>0.010497</td>\n",
       "      <td>0.090765</td>\n",
       "      <td>0.080267</td>\n",
       "      <td>0.010695</td>\n",
       "      <td>1.775183e-04</td>\n",
       "      <td>4.899506e-02</td>\n",
       "    </tr>\n",
       "    <tr>\n",
       "      <th>161</th>\n",
       "      <td>8</td>\n",
       "      <td>14</td>\n",
       "      <td>0.011688</td>\n",
       "      <td>0.090765</td>\n",
       "      <td>0.079077</td>\n",
       "      <td>0.010695</td>\n",
       "      <td>3.951581e-05</td>\n",
       "      <td>1.090636e-02</td>\n",
       "    </tr>\n",
       "    <tr>\n",
       "      <th>162</th>\n",
       "      <td>8</td>\n",
       "      <td>15</td>\n",
       "      <td>0.014836</td>\n",
       "      <td>0.090765</td>\n",
       "      <td>0.075929</td>\n",
       "      <td>0.010695</td>\n",
       "      <td>2.526558e-07</td>\n",
       "      <td>6.973299e-05</td>\n",
       "    </tr>\n",
       "    <tr>\n",
       "      <th>163</th>\n",
       "      <td>8</td>\n",
       "      <td>16</td>\n",
       "      <td>0.016151</td>\n",
       "      <td>0.090765</td>\n",
       "      <td>0.074614</td>\n",
       "      <td>0.010695</td>\n",
       "      <td>5.591496e-08</td>\n",
       "      <td>1.543253e-05</td>\n",
       "    </tr>\n",
       "    <tr>\n",
       "      <th>164</th>\n",
       "      <td>8</td>\n",
       "      <td>17</td>\n",
       "      <td>0.025866</td>\n",
       "      <td>0.090765</td>\n",
       "      <td>0.064899</td>\n",
       "      <td>0.010695</td>\n",
       "      <td>0.000000e+00</td>\n",
       "      <td>0.000000e+00</td>\n",
       "    </tr>\n",
       "    <tr>\n",
       "      <th>165</th>\n",
       "      <td>8</td>\n",
       "      <td>18</td>\n",
       "      <td>0.020591</td>\n",
       "      <td>0.090765</td>\n",
       "      <td>0.070173</td>\n",
       "      <td>0.010695</td>\n",
       "      <td>7.218050e-09</td>\n",
       "      <td>1.992182e-06</td>\n",
       "    </tr>\n",
       "    <tr>\n",
       "      <th>166</th>\n",
       "      <td>8</td>\n",
       "      <td>19</td>\n",
       "      <td>0.022158</td>\n",
       "      <td>0.090765</td>\n",
       "      <td>0.068607</td>\n",
       "      <td>0.010695</td>\n",
       "      <td>2.388173e-06</td>\n",
       "      <td>6.591356e-04</td>\n",
       "    </tr>\n",
       "    <tr>\n",
       "      <th>178</th>\n",
       "      <td>9</td>\n",
       "      <td>17</td>\n",
       "      <td>0.017156</td>\n",
       "      <td>0.082055</td>\n",
       "      <td>0.064899</td>\n",
       "      <td>0.010695</td>\n",
       "      <td>5.112955e-11</td>\n",
       "      <td>1.411175e-08</td>\n",
       "    </tr>\n",
       "    <tr>\n",
       "      <th>179</th>\n",
       "      <td>9</td>\n",
       "      <td>18</td>\n",
       "      <td>0.011882</td>\n",
       "      <td>0.082055</td>\n",
       "      <td>0.070173</td>\n",
       "      <td>0.010695</td>\n",
       "      <td>1.667953e-04</td>\n",
       "      <td>4.603549e-02</td>\n",
       "    </tr>\n",
       "    <tr>\n",
       "      <th>191</th>\n",
       "      <td>10</td>\n",
       "      <td>17</td>\n",
       "      <td>0.015319</td>\n",
       "      <td>0.080218</td>\n",
       "      <td>0.064899</td>\n",
       "      <td>0.010695</td>\n",
       "      <td>4.404819e-10</td>\n",
       "      <td>1.215730e-07</td>\n",
       "    </tr>\n",
       "    <tr>\n",
       "      <th>203</th>\n",
       "      <td>11</td>\n",
       "      <td>17</td>\n",
       "      <td>0.015844</td>\n",
       "      <td>0.080744</td>\n",
       "      <td>0.064899</td>\n",
       "      <td>0.010695</td>\n",
       "      <td>1.253528e-10</td>\n",
       "      <td>3.459738e-08</td>\n",
       "    </tr>\n",
       "    <tr>\n",
       "      <th>214</th>\n",
       "      <td>12</td>\n",
       "      <td>17</td>\n",
       "      <td>0.017682</td>\n",
       "      <td>0.082581</td>\n",
       "      <td>0.064899</td>\n",
       "      <td>0.010695</td>\n",
       "      <td>1.758815e-12</td>\n",
       "      <td>4.854330e-10</td>\n",
       "    </tr>\n",
       "    <tr>\n",
       "      <th>215</th>\n",
       "      <td>12</td>\n",
       "      <td>18</td>\n",
       "      <td>0.012408</td>\n",
       "      <td>0.082581</td>\n",
       "      <td>0.070173</td>\n",
       "      <td>0.010695</td>\n",
       "      <td>5.303824e-05</td>\n",
       "      <td>1.463855e-02</td>\n",
       "    </tr>\n",
       "    <tr>\n",
       "      <th>224</th>\n",
       "      <td>13</td>\n",
       "      <td>17</td>\n",
       "      <td>0.015368</td>\n",
       "      <td>0.080267</td>\n",
       "      <td>0.064899</td>\n",
       "      <td>0.010695</td>\n",
       "      <td>1.469802e-09</td>\n",
       "      <td>4.056652e-07</td>\n",
       "    </tr>\n",
       "    <tr>\n",
       "      <th>233</th>\n",
       "      <td>14</td>\n",
       "      <td>17</td>\n",
       "      <td>0.014177</td>\n",
       "      <td>0.079077</td>\n",
       "      <td>0.064899</td>\n",
       "      <td>0.010695</td>\n",
       "      <td>4.358633e-08</td>\n",
       "      <td>1.202983e-05</td>\n",
       "    </tr>\n",
       "    <tr>\n",
       "      <th>241</th>\n",
       "      <td>15</td>\n",
       "      <td>17</td>\n",
       "      <td>0.011030</td>\n",
       "      <td>0.075929</td>\n",
       "      <td>0.064899</td>\n",
       "      <td>0.010695</td>\n",
       "      <td>2.673744e-05</td>\n",
       "      <td>7.379534e-03</td>\n",
       "    </tr>\n",
       "  </tbody>\n",
       "</table>\n",
       "</div>"
      ],
      "text/plain": [
       "     Category1  Category2  Difference  Proportion1  Proportion2  \\\n",
       "87           4          6    0.027632     0.082775     0.110407   \n",
       "108          5          9    0.023772     0.105827     0.082055   \n",
       "109          5         10    0.025609     0.105827     0.080218   \n",
       "110          5         11    0.025084     0.105827     0.080744   \n",
       "111          5         12    0.023246     0.105827     0.082581   \n",
       "112          5         13    0.025560     0.105827     0.080267   \n",
       "113          5         14    0.026751     0.105827     0.079077   \n",
       "114          5         15    0.029898     0.105827     0.075929   \n",
       "115          5         16    0.031214     0.105827     0.074614   \n",
       "116          5         17    0.040928     0.105827     0.064899   \n",
       "117          5         18    0.035654     0.105827     0.070173   \n",
       "118          5         19    0.037220     0.105827     0.068607   \n",
       "119          5         20    0.035593     0.105827     0.070234   \n",
       "124          6          8    0.019643     0.110407     0.090765   \n",
       "125          6          9    0.028352     0.110407     0.082055   \n",
       "126          6         10    0.030189     0.110407     0.080218   \n",
       "127          6         11    0.029664     0.110407     0.080744   \n",
       "128          6         12    0.027826     0.110407     0.082581   \n",
       "129          6         13    0.030140     0.110407     0.080267   \n",
       "130          6         14    0.031331     0.110407     0.079077   \n",
       "131          6         15    0.034478     0.110407     0.075929   \n",
       "132          6         16    0.035794     0.110407     0.074614   \n",
       "133          6         17    0.045508     0.110407     0.064899   \n",
       "134          6         18    0.040234     0.110407     0.070173   \n",
       "135          6         19    0.041800     0.110407     0.068607   \n",
       "136          6         20    0.040173     0.110407     0.070234   \n",
       "137          6         21    0.048679     0.110407     0.061728   \n",
       "141          7          9    0.018372     0.100427     0.082055   \n",
       "142          7         10    0.020209     0.100427     0.080218   \n",
       "143          7         11    0.019684     0.100427     0.080744   \n",
       "144          7         12    0.017846     0.100427     0.082581   \n",
       "145          7         13    0.020160     0.100427     0.080267   \n",
       "146          7         14    0.021350     0.100427     0.079077   \n",
       "147          7         15    0.024498     0.100427     0.075929   \n",
       "148          7         16    0.025813     0.100427     0.074614   \n",
       "149          7         17    0.035528     0.100427     0.064899   \n",
       "150          7         18    0.030254     0.100427     0.070173   \n",
       "151          7         19    0.031820     0.100427     0.068607   \n",
       "152          7         20    0.030193     0.100427     0.070234   \n",
       "157          8         10    0.010546     0.090765     0.080218   \n",
       "160          8         13    0.010497     0.090765     0.080267   \n",
       "161          8         14    0.011688     0.090765     0.079077   \n",
       "162          8         15    0.014836     0.090765     0.075929   \n",
       "163          8         16    0.016151     0.090765     0.074614   \n",
       "164          8         17    0.025866     0.090765     0.064899   \n",
       "165          8         18    0.020591     0.090765     0.070173   \n",
       "166          8         19    0.022158     0.090765     0.068607   \n",
       "178          9         17    0.017156     0.082055     0.064899   \n",
       "179          9         18    0.011882     0.082055     0.070173   \n",
       "191         10         17    0.015319     0.080218     0.064899   \n",
       "203         11         17    0.015844     0.080744     0.064899   \n",
       "214         12         17    0.017682     0.082581     0.064899   \n",
       "215         12         18    0.012408     0.082581     0.070173   \n",
       "224         13         17    0.015368     0.080267     0.064899   \n",
       "233         14         17    0.014177     0.079077     0.064899   \n",
       "241         15         17    0.011030     0.075929     0.064899   \n",
       "\n",
       "     Critical Value       P-Value  Adjusted P-Value  \n",
       "87         0.010695  1.502800e-04      4.147727e-02  \n",
       "108        0.010695  9.308646e-06      2.569186e-03  \n",
       "109        0.010695  1.282206e-06      3.538888e-04  \n",
       "110        0.010695  2.137089e-06      5.898367e-04  \n",
       "111        0.010695  1.210701e-05      3.341534e-03  \n",
       "112        0.010695  1.613743e-06      4.453930e-04  \n",
       "113        0.010695  5.779034e-07      1.595013e-04  \n",
       "114        0.010695  2.579978e-08      7.120739e-06  \n",
       "115        0.010695  8.569415e-09      2.365159e-06  \n",
       "116        0.010695  8.526513e-14      2.353318e-11  \n",
       "117        0.010695  6.178593e-10      1.705292e-07  \n",
       "118        0.010695  1.187652e-08      3.277920e-06  \n",
       "119        0.010695  7.359778e-05      2.031299e-02  \n",
       "124        0.010695  3.147341e-05      8.686662e-03  \n",
       "125        0.010695  1.453557e-10      4.011818e-08  \n",
       "126        0.010695  3.204770e-12      8.845165e-10  \n",
       "127        0.010695  7.899015e-12      2.180128e-09  \n",
       "128        0.010695  1.776523e-10      4.903205e-08  \n",
       "129        0.010695  6.026513e-12      1.663317e-09  \n",
       "130        0.010695  1.199707e-12      3.311191e-10  \n",
       "131        0.010695  7.327472e-15      2.022382e-12  \n",
       "132        0.010695  1.554312e-15      4.289902e-13  \n",
       "133        0.010695  0.000000e+00      0.000000e+00  \n",
       "134        0.010695  2.220446e-16      6.128431e-14  \n",
       "135        0.010695  4.800604e-13      1.324967e-10  \n",
       "136        0.010695  1.995138e-06      5.506580e-04  \n",
       "137        0.010695  1.178372e-04      3.252306e-02  \n",
       "141        0.010695  2.384205e-07      6.580407e-05  \n",
       "142        0.010695  4.342988e-09      1.198665e-06  \n",
       "143        0.010695  1.136706e-08      3.137307e-06  \n",
       "144        0.010695  2.914933e-07      8.045214e-05  \n",
       "145        0.010695  8.756469e-09      2.416785e-06  \n",
       "146        0.010695  1.610669e-09      4.445447e-07  \n",
       "147        0.010695  6.452172e-12      1.780800e-09  \n",
       "148        0.010695  1.408651e-12      3.887877e-10  \n",
       "149        0.010695  0.000000e+00      0.000000e+00  \n",
       "150        0.010695  2.571277e-13      7.096723e-11  \n",
       "151        0.010695  6.358689e-10      1.754998e-07  \n",
       "152        0.010695  1.701492e-04      4.696118e-02  \n",
       "157        0.010695  1.071008e-04      2.955981e-02  \n",
       "160        0.010695  1.775183e-04      4.899506e-02  \n",
       "161        0.010695  3.951581e-05      1.090636e-02  \n",
       "162        0.010695  2.526558e-07      6.973299e-05  \n",
       "163        0.010695  5.591496e-08      1.543253e-05  \n",
       "164        0.010695  0.000000e+00      0.000000e+00  \n",
       "165        0.010695  7.218050e-09      1.992182e-06  \n",
       "166        0.010695  2.388173e-06      6.591356e-04  \n",
       "178        0.010695  5.112955e-11      1.411175e-08  \n",
       "179        0.010695  1.667953e-04      4.603549e-02  \n",
       "191        0.010695  4.404819e-10      1.215730e-07  \n",
       "203        0.010695  1.253528e-10      3.459738e-08  \n",
       "214        0.010695  1.758815e-12      4.854330e-10  \n",
       "215        0.010695  5.303824e-05      1.463855e-02  \n",
       "224        0.010695  1.469802e-09      4.056652e-07  \n",
       "233        0.010695  4.358633e-08      1.202983e-05  \n",
       "241        0.010695  2.673744e-05      7.379534e-03  "
      ]
     },
     "execution_count": 15,
     "metadata": {},
     "output_type": "execute_result"
    }
   ],
   "source": [
    "marascuilo_procedure(crosstab_hour, 1, alpha=0.05)"
   ]
  },
  {
   "cell_type": "markdown",
   "id": "7ab8328e",
   "metadata": {},
   "source": [
    "We have received many statistical significant differences between various hours. Applications filled on 6:00 has the highest proportions of default rates and had the most significant difference when compared to applications filed at the evening on 17:00 - 21:00."
   ]
  },
  {
   "cell_type": "markdown",
   "id": "9e34f960",
   "metadata": {},
   "source": [
    "#### Does people with a higher education would default less? <br>"
   ]
  },
  {
   "cell_type": "code",
   "execution_count": 16,
   "id": "a8291976",
   "metadata": {},
   "outputs": [
    {
     "data": {
      "text/html": [
       "<div>\n",
       "<style scoped>\n",
       "    .dataframe tbody tr th:only-of-type {\n",
       "        vertical-align: middle;\n",
       "    }\n",
       "\n",
       "    .dataframe tbody tr th {\n",
       "        vertical-align: top;\n",
       "    }\n",
       "\n",
       "    .dataframe thead th {\n",
       "        text-align: right;\n",
       "    }\n",
       "</style>\n",
       "<table border=\"1\" class=\"dataframe\">\n",
       "  <thead>\n",
       "    <tr style=\"text-align: right;\">\n",
       "      <th>TARGET</th>\n",
       "      <th>0</th>\n",
       "      <th>1</th>\n",
       "    </tr>\n",
       "    <tr>\n",
       "      <th>NAME_EDUCATION_TYPE</th>\n",
       "      <th></th>\n",
       "      <th></th>\n",
       "    </tr>\n",
       "  </thead>\n",
       "  <tbody>\n",
       "    <tr>\n",
       "      <th>Academic degree</th>\n",
       "      <td>161</td>\n",
       "      <td>3</td>\n",
       "    </tr>\n",
       "    <tr>\n",
       "      <th>Higher education</th>\n",
       "      <td>70854</td>\n",
       "      <td>4009</td>\n",
       "    </tr>\n",
       "    <tr>\n",
       "      <th>Incomplete higher</th>\n",
       "      <td>9405</td>\n",
       "      <td>872</td>\n",
       "    </tr>\n",
       "    <tr>\n",
       "      <th>Lower secondary</th>\n",
       "      <td>3399</td>\n",
       "      <td>417</td>\n",
       "    </tr>\n",
       "    <tr>\n",
       "      <th>Secondary / secondary special</th>\n",
       "      <td>198867</td>\n",
       "      <td>19524</td>\n",
       "    </tr>\n",
       "  </tbody>\n",
       "</table>\n",
       "</div>"
      ],
      "text/plain": [
       "TARGET                              0      1\n",
       "NAME_EDUCATION_TYPE                         \n",
       "Academic degree                   161      3\n",
       "Higher education                70854   4009\n",
       "Incomplete higher                9405    872\n",
       "Lower secondary                  3399    417\n",
       "Secondary / secondary special  198867  19524"
      ]
     },
     "execution_count": 16,
     "metadata": {},
     "output_type": "execute_result"
    }
   ],
   "source": [
    "crosstab_education = pd.crosstab(application_train[\"NAME_EDUCATION_TYPE\"], application_train[\"TARGET\"])\n",
    "crosstab_education"
   ]
  },
  {
   "cell_type": "markdown",
   "id": "4f342d11",
   "metadata": {},
   "source": [
    "Education type \"Acadmeic degree\" is really under represented, therefore I will drop it, and conduct the tests without it."
   ]
  },
  {
   "cell_type": "code",
   "execution_count": 17,
   "id": "27efd28b",
   "metadata": {},
   "outputs": [],
   "source": [
    "crosstab_education.drop('Academic degree', inplace=True)"
   ]
  },
  {
   "cell_type": "markdown",
   "id": "711d0426",
   "metadata": {},
   "source": [
    "Hypotheses:\n",
    "\n",
    "- H0: There is no association between the level of education and the likelihood of defaulting on a loan. The proportion of loan defaults (TARGET=1) is the same across all education levels.<br>\n",
    "- Ha: There is an association between the level of education and the likelihood of defaulting on a loan. The proportion of loan defaults (TARGET=1) varies significantly across different education levels."
   ]
  },
  {
   "cell_type": "code",
   "execution_count": 18,
   "id": "f152cb8d",
   "metadata": {},
   "outputs": [
    {
     "data": {
      "text/plain": [
       "'P value is below alpha 0.05 --> Reject H0.'"
      ]
     },
     "execution_count": 18,
     "metadata": {},
     "output_type": "execute_result"
    }
   ],
   "source": [
    "chi_stat, p_chi_education, dof, expected = chi2_contingency(crosstab_education)\n",
    "get_significance(p_chi_education)"
   ]
  },
  {
   "cell_type": "code",
   "execution_count": 19,
   "id": "5c160364",
   "metadata": {},
   "outputs": [
    {
     "data": {
      "text/html": [
       "<div>\n",
       "<style scoped>\n",
       "    .dataframe tbody tr th:only-of-type {\n",
       "        vertical-align: middle;\n",
       "    }\n",
       "\n",
       "    .dataframe tbody tr th {\n",
       "        vertical-align: top;\n",
       "    }\n",
       "\n",
       "    .dataframe thead th {\n",
       "        text-align: right;\n",
       "    }\n",
       "</style>\n",
       "<table border=\"1\" class=\"dataframe\">\n",
       "  <thead>\n",
       "    <tr style=\"text-align: right;\">\n",
       "      <th></th>\n",
       "      <th>Category1</th>\n",
       "      <th>Category2</th>\n",
       "      <th>Difference</th>\n",
       "      <th>Proportion1</th>\n",
       "      <th>Proportion2</th>\n",
       "      <th>Critical Value</th>\n",
       "      <th>P-Value</th>\n",
       "      <th>Adjusted P-Value</th>\n",
       "    </tr>\n",
       "  </thead>\n",
       "  <tbody>\n",
       "    <tr>\n",
       "      <th>0</th>\n",
       "      <td>Higher education</td>\n",
       "      <td>Incomplete higher</td>\n",
       "      <td>0.031299</td>\n",
       "      <td>0.053551</td>\n",
       "      <td>0.084850</td>\n",
       "      <td>0.005042</td>\n",
       "      <td>0.000000</td>\n",
       "      <td>0.000000</td>\n",
       "    </tr>\n",
       "    <tr>\n",
       "      <th>1</th>\n",
       "      <td>Higher education</td>\n",
       "      <td>Lower secondary</td>\n",
       "      <td>0.055726</td>\n",
       "      <td>0.053551</td>\n",
       "      <td>0.109277</td>\n",
       "      <td>0.005042</td>\n",
       "      <td>0.000000</td>\n",
       "      <td>0.000000</td>\n",
       "    </tr>\n",
       "    <tr>\n",
       "      <th>2</th>\n",
       "      <td>Higher education</td>\n",
       "      <td>Secondary / secondary special</td>\n",
       "      <td>0.035848</td>\n",
       "      <td>0.053551</td>\n",
       "      <td>0.089399</td>\n",
       "      <td>0.005042</td>\n",
       "      <td>0.000000</td>\n",
       "      <td>0.000000</td>\n",
       "    </tr>\n",
       "    <tr>\n",
       "      <th>3</th>\n",
       "      <td>Incomplete higher</td>\n",
       "      <td>Lower secondary</td>\n",
       "      <td>0.024427</td>\n",
       "      <td>0.084850</td>\n",
       "      <td>0.109277</td>\n",
       "      <td>0.005042</td>\n",
       "      <td>0.000022</td>\n",
       "      <td>0.000129</td>\n",
       "    </tr>\n",
       "    <tr>\n",
       "      <th>5</th>\n",
       "      <td>Lower secondary</td>\n",
       "      <td>Secondary / secondary special</td>\n",
       "      <td>0.019877</td>\n",
       "      <td>0.109277</td>\n",
       "      <td>0.089399</td>\n",
       "      <td>0.005042</td>\n",
       "      <td>0.000093</td>\n",
       "      <td>0.000560</td>\n",
       "    </tr>\n",
       "  </tbody>\n",
       "</table>\n",
       "</div>"
      ],
      "text/plain": [
       "           Category1                      Category2  Difference  Proportion1  \\\n",
       "0   Higher education              Incomplete higher    0.031299     0.053551   \n",
       "1   Higher education                Lower secondary    0.055726     0.053551   \n",
       "2   Higher education  Secondary / secondary special    0.035848     0.053551   \n",
       "3  Incomplete higher                Lower secondary    0.024427     0.084850   \n",
       "5    Lower secondary  Secondary / secondary special    0.019877     0.109277   \n",
       "\n",
       "   Proportion2  Critical Value   P-Value  Adjusted P-Value  \n",
       "0     0.084850        0.005042  0.000000          0.000000  \n",
       "1     0.109277        0.005042  0.000000          0.000000  \n",
       "2     0.089399        0.005042  0.000000          0.000000  \n",
       "3     0.109277        0.005042  0.000022          0.000129  \n",
       "5     0.089399        0.005042  0.000093          0.000560  "
      ]
     },
     "execution_count": 19,
     "metadata": {},
     "output_type": "execute_result"
    }
   ],
   "source": [
    "marascuilo_procedure(crosstab_education, 1, alpha=0.05)"
   ]
  },
  {
   "cell_type": "markdown",
   "id": "0eaf7346",
   "metadata": {},
   "source": [
    "We can see that people with higher education have the lowest default rate. People with secondary or incomplete higher education have a statistically significant difference in default rate when compared to people who have a higher education degree. We can confirm, that people with a higher education are defaulting less."
   ]
  },
  {
   "cell_type": "markdown",
   "id": "b9032020",
   "metadata": {},
   "source": [
    "#### Are there are any difference in clients default rate, when where they lives? "
   ]
  },
  {
   "cell_type": "code",
   "execution_count": 20,
   "id": "ff954ffc",
   "metadata": {},
   "outputs": [
    {
     "data": {
      "text/html": [
       "<div>\n",
       "<style scoped>\n",
       "    .dataframe tbody tr th:only-of-type {\n",
       "        vertical-align: middle;\n",
       "    }\n",
       "\n",
       "    .dataframe tbody tr th {\n",
       "        vertical-align: top;\n",
       "    }\n",
       "\n",
       "    .dataframe thead th {\n",
       "        text-align: right;\n",
       "    }\n",
       "</style>\n",
       "<table border=\"1\" class=\"dataframe\">\n",
       "  <thead>\n",
       "    <tr style=\"text-align: right;\">\n",
       "      <th>TARGET</th>\n",
       "      <th>0</th>\n",
       "      <th>1</th>\n",
       "    </tr>\n",
       "    <tr>\n",
       "      <th>REGION_RATING_CLIENT_W_CITY</th>\n",
       "      <th></th>\n",
       "      <th></th>\n",
       "    </tr>\n",
       "  </thead>\n",
       "  <tbody>\n",
       "    <tr>\n",
       "      <th>1</th>\n",
       "      <td>32513</td>\n",
       "      <td>1654</td>\n",
       "    </tr>\n",
       "    <tr>\n",
       "      <th>2</th>\n",
       "      <td>211314</td>\n",
       "      <td>18170</td>\n",
       "    </tr>\n",
       "    <tr>\n",
       "      <th>3</th>\n",
       "      <td>38859</td>\n",
       "      <td>5001</td>\n",
       "    </tr>\n",
       "  </tbody>\n",
       "</table>\n",
       "</div>"
      ],
      "text/plain": [
       "TARGET                            0      1\n",
       "REGION_RATING_CLIENT_W_CITY               \n",
       "1                             32513   1654\n",
       "2                            211314  18170\n",
       "3                             38859   5001"
      ]
     },
     "execution_count": 20,
     "metadata": {},
     "output_type": "execute_result"
    }
   ],
   "source": [
    "crosstab_place = pd.crosstab(application_train[\"REGION_RATING_CLIENT_W_CITY\"], application_train[\"TARGET\"])\n",
    "crosstab_place"
   ]
  },
  {
   "cell_type": "markdown",
   "id": "5e4f9e83",
   "metadata": {},
   "source": [
    "- H0: There is no association between the rating of a client's region with city and the likelihood of defaulting on a loan. The proportion of loan defaults (TARGET=1) is the same across all ratings of region/city levels.\n",
    "\n",
    "- Ha: There is an association between the rating of a client's region with city and the likelihood of defaulting on a loan. The proportion of loan defaults (TARGET=1) varies across different ratings of region/city levels."
   ]
  },
  {
   "cell_type": "code",
   "execution_count": 21,
   "id": "ee885bb6",
   "metadata": {},
   "outputs": [
    {
     "data": {
      "text/plain": [
       "'P value is below alpha 0.05 --> Reject H0.'"
      ]
     },
     "execution_count": 21,
     "metadata": {},
     "output_type": "execute_result"
    }
   ],
   "source": [
    "chi_stat, p_chi_place, dof, expected = chi2_contingency(crosstab_place)\n",
    "get_significance(p_chi_place)"
   ]
  },
  {
   "cell_type": "code",
   "execution_count": 22,
   "id": "082fffdf",
   "metadata": {},
   "outputs": [
    {
     "data": {
      "text/html": [
       "<div>\n",
       "<style scoped>\n",
       "    .dataframe tbody tr th:only-of-type {\n",
       "        vertical-align: middle;\n",
       "    }\n",
       "\n",
       "    .dataframe tbody tr th {\n",
       "        vertical-align: top;\n",
       "    }\n",
       "\n",
       "    .dataframe thead th {\n",
       "        text-align: right;\n",
       "    }\n",
       "</style>\n",
       "<table border=\"1\" class=\"dataframe\">\n",
       "  <thead>\n",
       "    <tr style=\"text-align: right;\">\n",
       "      <th></th>\n",
       "      <th>Category1</th>\n",
       "      <th>Category2</th>\n",
       "      <th>Difference</th>\n",
       "      <th>Proportion1</th>\n",
       "      <th>Proportion2</th>\n",
       "      <th>Critical Value</th>\n",
       "      <th>P-Value</th>\n",
       "      <th>Adjusted P-Value</th>\n",
       "    </tr>\n",
       "  </thead>\n",
       "  <tbody>\n",
       "    <tr>\n",
       "      <th>0</th>\n",
       "      <td>1</td>\n",
       "      <td>2</td>\n",
       "      <td>0.030768</td>\n",
       "      <td>0.048409</td>\n",
       "      <td>0.079178</td>\n",
       "      <td>0.004414</td>\n",
       "      <td>0.0</td>\n",
       "      <td>0.0</td>\n",
       "    </tr>\n",
       "    <tr>\n",
       "      <th>1</th>\n",
       "      <td>1</td>\n",
       "      <td>3</td>\n",
       "      <td>0.065613</td>\n",
       "      <td>0.048409</td>\n",
       "      <td>0.114022</td>\n",
       "      <td>0.004414</td>\n",
       "      <td>0.0</td>\n",
       "      <td>0.0</td>\n",
       "    </tr>\n",
       "    <tr>\n",
       "      <th>2</th>\n",
       "      <td>2</td>\n",
       "      <td>3</td>\n",
       "      <td>0.034844</td>\n",
       "      <td>0.079178</td>\n",
       "      <td>0.114022</td>\n",
       "      <td>0.004414</td>\n",
       "      <td>0.0</td>\n",
       "      <td>0.0</td>\n",
       "    </tr>\n",
       "  </tbody>\n",
       "</table>\n",
       "</div>"
      ],
      "text/plain": [
       "   Category1  Category2  Difference  Proportion1  Proportion2  Critical Value  \\\n",
       "0          1          2    0.030768     0.048409     0.079178        0.004414   \n",
       "1          1          3    0.065613     0.048409     0.114022        0.004414   \n",
       "2          2          3    0.034844     0.079178     0.114022        0.004414   \n",
       "\n",
       "   P-Value  Adjusted P-Value  \n",
       "0      0.0               0.0  \n",
       "1      0.0               0.0  \n",
       "2      0.0               0.0  "
      ]
     },
     "execution_count": 22,
     "metadata": {},
     "output_type": "execute_result"
    }
   ],
   "source": [
    "marascuilo_procedure(crosstab_place, 1, alpha=0.05)"
   ]
  },
  {
   "cell_type": "markdown",
   "id": "51520a4e",
   "metadata": {},
   "source": [
    "We do see a statistically significant difference while comparing all available groups. As could have been expected, people who lives in regions/cities with rating 1, has the least default rate. People with rating of 3 - a highest default rate."
   ]
  },
  {
   "cell_type": "markdown",
   "id": "8dc4fb59",
   "metadata": {},
   "source": [
    "#### Are there are any difference in clients income, when comparing the rating of their region? "
   ]
  },
  {
   "cell_type": "code",
   "execution_count": 23,
   "id": "660c3aa7",
   "metadata": {},
   "outputs": [
    {
     "name": "stdout",
     "output_type": "stream",
     "text": [
      "Old Shape:  (307511, 124)\n",
      "New Shape:  (293476, 124)\n",
      "Values dropped: 14035\n"
     ]
    }
   ],
   "source": [
    "application_train = remove_outliers(application_train, \"AMT_INCOME_TOTAL\")"
   ]
  },
  {
   "cell_type": "code",
   "execution_count": 24,
   "id": "53d84cc7",
   "metadata": {},
   "outputs": [
    {
     "name": "stdout",
     "output_type": "stream",
     "text": [
      "Income of rating 1:\n",
      "Skewness coef.: 0.13\n",
      "Anderson-Darling Test: Not normally distributed\n",
      "Kolmogorov-Smirnov Test: Not normally distributed \n",
      "\n",
      "Income of rating 2:\n",
      "Skewness coef.: 0.69\n",
      "Anderson-Darling Test: Not normally distributed\n",
      "Kolmogorov-Smirnov Test: Not normally distributed \n",
      "\n",
      "Income of rating 3:\n",
      "Skewness coef.: 0.82\n",
      "Anderson-Darling Test: Not normally distributed\n",
      "Kolmogorov-Smirnov Test: Not normally distributed \n",
      "\n"
     ]
    }
   ],
   "source": [
    "ratings = sorted(application_train[\"REGION_RATING_CLIENT_W_CITY\"].unique())\n",
    "income_by_place_rate = {}\n",
    "for rating in ratings:\n",
    "    income_by_place_rate[rating] = application_train[application_train[\"REGION_RATING_CLIENT_W_CITY\"] == rating][\"AMT_INCOME_TOTAL\"]\n",
    "    \n",
    "for rating, data in income_by_place_rate.items():\n",
    "    print(f\"Income of rating {rating}:\")\n",
    "    check_normality(data)"
   ]
  },
  {
   "cell_type": "markdown",
   "id": "c4e56f9f",
   "metadata": {},
   "source": [
    "Hypotheses:\n",
    "\n",
    "- H0: There is no association between the rating of a client's region with city and client income. This implies that the level of income is the same across all ratings of region/city levels.\n",
    "\n",
    "- Ha: There is an association between the rating of a client's region with city and client income. This implies that the level of income varies across different ratings of region/city levels."
   ]
  },
  {
   "cell_type": "code",
   "execution_count": 25,
   "id": "fa8b8ab0",
   "metadata": {},
   "outputs": [
    {
     "data": {
      "text/plain": [
       "'P value is below alpha 0.05 --> Reject H0.'"
      ]
     },
     "execution_count": 25,
     "metadata": {},
     "output_type": "execute_result"
    }
   ],
   "source": [
    "model = stats.kruskal(*income_by_place_rate.values())\n",
    "get_significance(model.pvalue)"
   ]
  },
  {
   "cell_type": "code",
   "execution_count": 26,
   "id": "bcb904b7",
   "metadata": {},
   "outputs": [
    {
     "data": {
      "image/png": "[encoded data removed]",
      "text/plain": [
       "<Figure size 800x600 with 1 Axes>"
      ]
     },
     "metadata": {},
     "output_type": "display_data"
    }
   ],
   "source": [
    "dunn_test_inc = sph.posthoc_dunn(list(income_by_place_rate.values()))\n",
    "dunn_test_inc.columns = list(income_by_place_rate.keys())\n",
    "dunn_test_inc.index = list(income_by_place_rate.keys())\n",
    "\n",
    "plot_dunn_results(dunn_test_inc, 0.05)"
   ]
  },
  {
   "cell_type": "markdown",
   "id": "0ce62847",
   "metadata": {},
   "source": [
    "Null hypothesis is rejected when comparing all available groups. the level of income varies across different ratings of region/city levels."
   ]
  },
  {
   "cell_type": "markdown",
   "id": "50688c36",
   "metadata": {},
   "source": [
    "#### Are there are any difference in clients credit amount, when comparing the rating of their region? "
   ]
  },
  {
   "cell_type": "code",
   "execution_count": 27,
   "id": "410a35a2",
   "metadata": {},
   "outputs": [
    {
     "name": "stdout",
     "output_type": "stream",
     "text": [
      "Old Shape:  (293476, 124)\n",
      "New Shape:  (287724, 124)\n",
      "Values dropped: 5752\n"
     ]
    }
   ],
   "source": [
    "application_train = remove_outliers(application_train, \"AMT_CREDIT\")"
   ]
  },
  {
   "cell_type": "code",
   "execution_count": 28,
   "id": "894d34f1",
   "metadata": {},
   "outputs": [
    {
     "name": "stdout",
     "output_type": "stream",
     "text": [
      "Income of rating 1:\n",
      "Skewness coef.: 0.61\n",
      "Anderson-Darling Test: Not normally distributed\n",
      "Kolmogorov-Smirnov Test: Not normally distributed \n",
      "\n",
      "Income of rating 2:\n",
      "Skewness coef.: 0.81\n",
      "Anderson-Darling Test: Not normally distributed\n",
      "Kolmogorov-Smirnov Test: Not normally distributed \n",
      "\n",
      "Income of rating 3:\n",
      "Skewness coef.: 0.84\n",
      "Anderson-Darling Test: Not normally distributed\n",
      "Kolmogorov-Smirnov Test: Not normally distributed \n",
      "\n"
     ]
    }
   ],
   "source": [
    "ratings = sorted(application_train[\"REGION_RATING_CLIENT_W_CITY\"].unique())\n",
    "credit_by_place_rate = {}\n",
    "for rating in ratings:\n",
    "    credit_by_place_rate[rating] = application_train[application_train[\"REGION_RATING_CLIENT_W_CITY\"] == rating][\"AMT_CREDIT\"]\n",
    "    \n",
    "for rating, data in credit_by_place_rate.items():\n",
    "    print(f\"Income of rating {rating}:\")\n",
    "    check_normality(data)"
   ]
  },
  {
   "cell_type": "markdown",
   "id": "e1211485",
   "metadata": {},
   "source": [
    "#### Hypotheses"
   ]
  },
  {
   "cell_type": "markdown",
   "id": "454f4247",
   "metadata": {},
   "source": [
    "- H0: There is no difference in the average credit amount among clients from different region ratings. In other words, the mean credit amount is the same across all region ratings.\n",
    "\n",
    "- Ha: There is a difference in the average credit amount among clients from different region ratings. This means that at least one region rating group has a mean credit amount that differs from the others."
   ]
  },
  {
   "cell_type": "code",
   "execution_count": 29,
   "id": "97d9ebb2",
   "metadata": {},
   "outputs": [
    {
     "data": {
      "text/plain": [
       "'P value is below alpha 0.05 --> Reject H0.'"
      ]
     },
     "execution_count": 29,
     "metadata": {},
     "output_type": "execute_result"
    }
   ],
   "source": [
    "model = stats.kruskal(*credit_by_place_rate.values())\n",
    "get_significance(model.pvalue)"
   ]
  },
  {
   "cell_type": "code",
   "execution_count": 30,
   "id": "980a0b99",
   "metadata": {},
   "outputs": [
    {
     "data": {
      "image/png": "[encoded data removed]",
      "text/plain": [
       "<Figure size 800x600 with 1 Axes>"
      ]
     },
     "metadata": {},
     "output_type": "display_data"
    }
   ],
   "source": [
    "dunn_test_inc = sph.posthoc_dunn(list(credit_by_place_rate.values()))\n",
    "dunn_test_inc.columns = list(credit_by_place_rate.keys())\n",
    "dunn_test_inc.index = list(credit_by_place_rate.keys())\n",
    "\n",
    "plot_dunn_results(dunn_test_inc, 0.05)"
   ]
  },
  {
   "cell_type": "markdown",
   "id": "14317d2f",
   "metadata": {},
   "source": [
    "Null Hypothesis is rejected in all possible group comparisons. There is a significant difference in the average credit amount among clients from different region ratings."
   ]
  },
  {
   "cell_type": "markdown",
   "id": "b2e750ef",
   "metadata": {},
   "source": [
    "#### Are there are any difference in clients credit amount, when comparing the housing type?"
   ]
  },
  {
   "cell_type": "code",
   "execution_count": 31,
   "id": "c23b8738",
   "metadata": {},
   "outputs": [],
   "source": [
    "application_train = application_train.dropna(subset=[\"NAME_HOUSING_TYPE\"])"
   ]
  },
  {
   "cell_type": "code",
   "execution_count": 32,
   "id": "5d3fb635",
   "metadata": {},
   "outputs": [],
   "source": [
    "types = application_train[\"NAME_HOUSING_TYPE\"].unique()\n",
    "credit_by_occupation = {}\n",
    "for rating in types:\n",
    "    credit_by_occupation[rating] = application_train[application_train[\"NAME_HOUSING_TYPE\"] == rating][\"AMT_CREDIT\"]"
   ]
  },
  {
   "cell_type": "markdown",
   "id": "862f9204",
   "metadata": {},
   "source": [
    "#### Hypotheses"
   ]
  },
  {
   "cell_type": "markdown",
   "id": "70e2e961",
   "metadata": {},
   "source": [
    "- H0 There is no difference in the average credit amount across different housing types. The mean credit amount for clients is the same regardless of the housing type they live in.\n",
    "\n",
    "- Ha: There is a difference in the average credit amount across different housing types. At least one housing type group's mean credit amount is different from others."
   ]
  },
  {
   "cell_type": "code",
   "execution_count": 33,
   "id": "ed10525b",
   "metadata": {},
   "outputs": [
    {
     "data": {
      "text/plain": [
       "'P value is below alpha 0.05 --> Reject H0.'"
      ]
     },
     "execution_count": 33,
     "metadata": {},
     "output_type": "execute_result"
    }
   ],
   "source": [
    "model = stats.kruskal(*credit_by_occupation.values())\n",
    "get_significance(model.pvalue)"
   ]
  },
  {
   "cell_type": "code",
   "execution_count": 34,
   "id": "76d074d6",
   "metadata": {},
   "outputs": [
    {
     "name": "stdout",
     "output_type": "stream",
     "text": [
      "Income of rating House / apartment:\n",
      "Skewness coef.: 0.78\n",
      "Anderson-Darling Test: Not normally distributed\n",
      "Kolmogorov-Smirnov Test: Not normally distributed \n",
      "\n",
      "Income of rating Rented apartment:\n",
      "Skewness coef.: 1.00\n",
      "Anderson-Darling Test: Not normally distributed\n",
      "Kolmogorov-Smirnov Test: Not normally distributed \n",
      "\n",
      "Income of rating With parents:\n",
      "Skewness coef.: 1.08\n",
      "Anderson-Darling Test: Not normally distributed\n",
      "Kolmogorov-Smirnov Test: Not normally distributed \n",
      "\n",
      "Income of rating Municipal apartment:\n",
      "Skewness coef.: 0.79\n",
      "Anderson-Darling Test: Not normally distributed\n",
      "Kolmogorov-Smirnov Test: Not normally distributed \n",
      "\n",
      "Income of rating Office apartment:\n",
      "Skewness coef.: 0.74\n",
      "Anderson-Darling Test: Not normally distributed\n",
      "Kolmogorov-Smirnov Test: Not normally distributed \n",
      "\n",
      "Income of rating Co-op apartment:\n",
      "Skewness coef.: 0.86\n",
      "Anderson-Darling Test: Not normally distributed\n",
      "Kolmogorov-Smirnov Test: Not normally distributed \n",
      "\n"
     ]
    }
   ],
   "source": [
    "types = application_train[\"NAME_HOUSING_TYPE\"].unique()\n",
    "credit_by_occupation = {}\n",
    "for rating in types:\n",
    "    credit_by_occupation[rating] = application_train[application_train[\"NAME_HOUSING_TYPE\"] == rating][\"AMT_CREDIT\"]\n",
    "    \n",
    "for rating, data in credit_by_occupation.items():\n",
    "    print(f\"Income of rating {rating}:\")\n",
    "    check_normality(data)"
   ]
  },
  {
   "cell_type": "code",
   "execution_count": 35,
   "id": "7244182b",
   "metadata": {},
   "outputs": [
    {
     "data": {
      "image/png": "[encoded data removed]",
      "text/plain": [
       "<Figure size 800x600 with 1 Axes>"
      ]
     },
     "metadata": {},
     "output_type": "display_data"
    }
   ],
   "source": [
    "dunn_test_c = sph.posthoc_dunn(list(credit_by_occupation.values()))\n",
    "dunn_test_c.columns = list(credit_by_occupation.keys())\n",
    "dunn_test_c.index = list(credit_by_occupation.keys())\n",
    "\n",
    "plot_dunn_results(dunn_test_c, 0.05)"
   ]
  },
  {
   "cell_type": "markdown",
   "id": "a985e904",
   "metadata": {},
   "source": [
    "We can see statistically significant difference in creadit amount across all types of apartments, except when comparing House/apartment to Municipal and Office apartments."
   ]
  },
  {
   "cell_type": "code",
   "execution_count": 36,
   "id": "4c3376eb",
   "metadata": {},
   "outputs": [
    {
     "data": {
      "text/plain": [
       "count    287724.000000\n",
       "mean         30.211407\n",
       "std          20.862883\n",
       "min           0.000000\n",
       "25%           6.000000\n",
       "50%          41.000000\n",
       "75%          49.000000\n",
       "max          61.000000\n",
       "dtype: float64"
      ]
     },
     "execution_count": 36,
     "metadata": {},
     "output_type": "execute_result"
    }
   ],
   "source": [
    "application_train.isna().sum(axis=1).describe()"
   ]
  },
  {
   "cell_type": "markdown",
   "id": "1c644012",
   "metadata": {},
   "source": [
    "#### Are people with incomplete application defaults more often?"
   ]
  },
  {
   "cell_type": "code",
   "execution_count": 37,
   "id": "9ce1f359",
   "metadata": {},
   "outputs": [],
   "source": [
    "application_train[\"INCOMPLETE\"] = (application_train.isna().sum(axis=1)>35).astype(int)"
   ]
  },
  {
   "cell_type": "code",
   "execution_count": 38,
   "id": "761c8212",
   "metadata": {},
   "outputs": [
    {
     "data": {
      "text/html": [
       "<div>\n",
       "<style scoped>\n",
       "    .dataframe tbody tr th:only-of-type {\n",
       "        vertical-align: middle;\n",
       "    }\n",
       "\n",
       "    .dataframe tbody tr th {\n",
       "        vertical-align: top;\n",
       "    }\n",
       "\n",
       "    .dataframe thead th {\n",
       "        text-align: right;\n",
       "    }\n",
       "</style>\n",
       "<table border=\"1\" class=\"dataframe\">\n",
       "  <thead>\n",
       "    <tr style=\"text-align: right;\">\n",
       "      <th>TARGET</th>\n",
       "      <th>0</th>\n",
       "      <th>1</th>\n",
       "    </tr>\n",
       "    <tr>\n",
       "      <th>INCOMPLETE</th>\n",
       "      <th></th>\n",
       "      <th></th>\n",
       "    </tr>\n",
       "  </thead>\n",
       "  <tbody>\n",
       "    <tr>\n",
       "      <th>0</th>\n",
       "      <td>130619</td>\n",
       "      <td>10045</td>\n",
       "    </tr>\n",
       "    <tr>\n",
       "      <th>1</th>\n",
       "      <td>133343</td>\n",
       "      <td>13717</td>\n",
       "    </tr>\n",
       "  </tbody>\n",
       "</table>\n",
       "</div>"
      ],
      "text/plain": [
       "TARGET           0      1\n",
       "INCOMPLETE               \n",
       "0           130619  10045\n",
       "1           133343  13717"
      ]
     },
     "execution_count": 38,
     "metadata": {},
     "output_type": "execute_result"
    }
   ],
   "source": [
    "crosstab_incomplete = pd.crosstab(application_train[\"INCOMPLETE\"], application_train[\"TARGET\"])\n",
    "crosstab_incomplete"
   ]
  },
  {
   "cell_type": "markdown",
   "id": "cdb02ad0",
   "metadata": {},
   "source": [
    "#### Hypotheses"
   ]
  },
  {
   "cell_type": "markdown",
   "id": "58e84633",
   "metadata": {},
   "source": [
    "- H0: The proportion of defaults (TARGET=1) is the same between people with complete applications (including housing information) and those with incomplete applications (missing housing information).\n",
    "\n",
    "- Ha: The proportion of defaults (TARGET=1) differs between people with complete applications (including housing information) and those with incomplete applications (missing housing information)."
   ]
  },
  {
   "cell_type": "code",
   "execution_count": 39,
   "id": "b518106a",
   "metadata": {},
   "outputs": [
    {
     "name": "stdout",
     "output_type": "stream",
     "text": [
      "Chi-square test for independence:\n",
      "- Null Hypothesis (H0): No association between INCOMPLETE and the likelihood of defaulting on a loan. The proportions of default are equal across groups.\n",
      "- Alternative Hypothesis (Ha): An association between INCOMPLETE and the likelihood of defaulting on a loan. The proportions of default differ between groups.\n",
      "\n",
      "Chi-square Results: \n",
      "- Statistic: 453.31 \n",
      "- P-value: 0.0 \n",
      "- Degrees of freedom: 1\n",
      "P value is below alpha 0.05 --> Rejecting H0.\n",
      "\n",
      "Proportions Analysis:\n",
      "- Default rate for INCOMPLETE = 0: 0.0714\n",
      "- Default rate for INCOMPLETE = 1: 0.0933\n",
      "\n",
      "Proportions Z-test:\n",
      "- Z-statistic: 21.3\n",
      "- P-value: 0.0\n",
      "P-value is below 0.025 -> Reject Null Hypothesis.\n",
      "Group 1 is more likely to default on a loan.\n"
     ]
    }
   ],
   "source": [
    "two_group_default_comparison(crosstab_incomplete)"
   ]
  },
  {
   "cell_type": "markdown",
   "id": "eefe2b77",
   "metadata": {},
   "source": [
    "### Statistically significant findings"
   ]
  },
  {
   "cell_type": "markdown",
   "id": "df727010",
   "metadata": {},
   "source": [
    "Who default less?\n",
    "\n",
    "People who own car or real estate.<br>\n",
    "People with age over 60.<br>\n",
    "People filled applications on Tuesday when compared to Monday filled applications.<br>\n",
    "Applications filled on 6:00 has the highest proportions of default rates, and 17:00-21:00 lowest.<br>\n",
    "People with higher education.<br>\n",
    "People who live in lower rated regions/cities. We can also see difference in their income too.<br>\n",
    "People with fully filled infromation defaults less.<br>\n",
    "\n",
    "\n",
    "We do see a significant difference between amount of credit between all region ratings and all housing types (except when comparing House/apartment to Municipal and Office apartments.)\n"
   ]
  }
 ],
 "metadata": {
  "kernelspec": {
   "display_name": "Python 3 (ipykernel)",
   "language": "python",
   "name": "python3"
  },
  "language_info": {
   "codemirror_mode": {
    "name": "ipython",
    "version": 3
   },
   "file_extension": ".py",
   "mimetype": "text/x-python",
   "name": "python",
   "nbconvert_exporter": "python",
   "pygments_lexer": "ipython3",
   "version": "3.9.13"
  }
 },
 "nbformat": 4,
 "nbformat_minor": 5
}
